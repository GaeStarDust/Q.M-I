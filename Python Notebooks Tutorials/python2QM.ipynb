{
  "nbformat": 4,
  "nbformat_minor": 0,
  "metadata": {
    "colab": {
      "provenance": [],
      "authorship_tag": "ABX9TyNMu3gkY7GhUuhKGRDY7F5a",
      "include_colab_link": true
    },
    "kernelspec": {
      "name": "python3",
      "display_name": "Python 3"
    },
    "language_info": {
      "name": "python"
    }
  },
  "cells": [
    {
      "cell_type": "markdown",
      "metadata": {
        "id": "view-in-github",
        "colab_type": "text"
      },
      "source": [
        "<a href=\"https://colab.research.google.com/github/GaeStarDust/Q.M-I/blob/main/python2QM.ipynb\" target=\"_parent\"><img src=\"https://colab.research.google.com/assets/colab-badge.svg\" alt=\"Open In Colab\"/></a>"
      ]
    },
    {
      "cell_type": "markdown",
      "source": [
        "# Tutorial 2: Python for QM\n",
        "## 1. Stats. Distriburions"
      ],
      "metadata": {
        "id": "gEQoJmB9gARa"
      }
    },
    {
      "cell_type": "code",
      "source": [
        "#Important libraries\n",
        "import numpy as np #Numerical python library\n",
        "import matplotlib.pyplot as plt #Plotting Library\n",
        "import scipy.constants as ct #Phyisical constants library"
      ],
      "metadata": {
        "id": "EGiOJdPRgyRR"
      },
      "execution_count": 2,
      "outputs": []
    },
    {
      "cell_type": "code",
      "source": [
        "#Generate the discrete sample\n",
        "st_sample = np.array([14,15,16,16,16,22,22,24,24,25,25,25,25,25])\n",
        "print(st_sample.shape)"
      ],
      "metadata": {
        "colab": {
          "base_uri": "https://localhost:8080/"
        },
        "id": "74HTW0NugqJN",
        "outputId": "712e59b0-37d3-4dd3-de50-864a35d69d22"
      },
      "execution_count": 4,
      "outputs": [
        {
          "output_type": "stream",
          "name": "stdout",
          "text": [
            "(14,)\n"
          ]
        }
      ]
    },
    {
      "cell_type": "code",
      "source": [
        "#Make a histogram\n",
        "plt.figure(figsize=(8,4))\n",
        "\n",
        "plt.hist(st_sample, bins=10, )"
      ],
      "metadata": {
        "colab": {
          "base_uri": "https://localhost:8080/",
          "height": 482
        },
        "id": "bL24mkydg6kw",
        "outputId": "9c60d337-7aba-4c8a-91bb-1b342f6751f1"
      },
      "execution_count": 6,
      "outputs": [
        {
          "output_type": "execute_result",
          "data": {
            "text/plain": [
              "(array([2., 3., 0., 0., 0., 0., 0., 2., 0., 7.]),\n",
              " array([14. , 15.1, 16.2, 17.3, 18.4, 19.5, 20.6, 21.7, 22.8, 23.9, 25. ]),\n",
              " <BarContainer object of 10 artists>)"
            ]
          },
          "metadata": {},
          "execution_count": 6
        },
        {
          "output_type": "display_data",
          "data": {
            "text/plain": [
              "<Figure size 640x480 with 1 Axes>"
            ],
            "image/png": "[encoded data removed]"
          },
          "metadata": {}
        }
      ]
    },
    {
      "cell_type": "code",
      "source": [
        "#Compute the mean\n",
        "av_st = np.mean(st_sample)\n",
        "print(av_st)\n",
        "\n",
        "av_st_2= np.mean(st_sample**2)"
      ],
      "metadata": {
        "colab": {
          "base_uri": "https://localhost:8080/"
        },
        "id": "EByxggdKhFpK",
        "outputId": "cecda3bd-cc01-4d3c-ae09-94dbc426c751"
      },
      "execution_count": 10,
      "outputs": [
        {
          "output_type": "stream",
          "name": "stdout",
          "text": [
            "21.0\n"
          ]
        }
      ]
    },
    {
      "cell_type": "code",
      "source": [
        "#Get sigma\n",
        "sigma_j = np.sqrt(av_st_2 - av_st**2)\n",
        "print(sigma_j)"
      ],
      "metadata": {
        "colab": {
          "base_uri": "https://localhost:8080/"
        },
        "id": "ykMiMVpuh5Ce",
        "outputId": "36b636f4-a27b-4ef5-fa1d-0a0d01690b6b"
      },
      "execution_count": 11,
      "outputs": [
        {
          "output_type": "stream",
          "name": "stdout",
          "text": [
            "4.309458036856672\n"
          ]
        }
      ]
    },
    {
      "cell_type": "code",
      "source": [
        "#Compare with numpy sigma\n",
        "sigma_j_num = np.std(st_sample)\n",
        "print(sigma_j_num)"
      ],
      "metadata": {
        "colab": {
          "base_uri": "https://localhost:8080/"
        },
        "id": "O0_T61okoQRj",
        "outputId": "7e7a0ba0-47db-490c-f8c3-b3a0518cf29a"
      },
      "execution_count": 12,
      "outputs": [
        {
          "output_type": "stream",
          "name": "stdout",
          "text": [
            "4.3094580368566735\n"
          ]
        }
      ]
    },
    {
      "cell_type": "code",
      "source": [],
      "metadata": {
        "id": "sfKv7BxOobRJ"
      },
      "execution_count": null,
      "outputs": []
    }
  ]
}
